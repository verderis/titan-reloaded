{
 "cells": [
  {
   "cell_type": "code",
   "execution_count": null,
   "id": "462c6e7a-d918-41ea-9ab0-46ab9714cac5",
   "metadata": {},
   "outputs": [],
   "source": [
    "#clustering"
   ]
  },
  {
   "cell_type": "code",
   "execution_count": 1,
   "id": "1374c716-fd25-47e4-a3af-3e4f0f7b74ef",
   "metadata": {},
   "outputs": [],
   "source": [
    "# import sys\n",
    "# import cuentitas\n",
    "# from entornomaximo import entornoMaximo as em\n",
    "# from auxiliares import integracionGauss as ig\n",
    "# from auxiliares import medicion\n",
    "# from auxiliares import sigma\n",
    "# from auxiliares import sigmaEmi\n",
    "# from auxiliares import S0VV_completo\n",
    "from auxiliares import generadorFran1Capa  #generador, generador1E, generadorEmisividad, \n",
    "\n",
    "# from numpy import pi, sqrt, sin, cos, exp, log10, array, real, conj\n",
    "import numpy as np\n",
    "# import matplotlib\n",
    "from matplotlib import pyplot as plt\n",
    "# from scipy import interpolate\n",
    "import seaborn as sns\n",
    "import pandas as pd\n",
    "# import glob\n",
    "# import theano.tensor as TT\n",
    "# import random\n",
    "\n",
    "# import time\n",
    "\n",
    "# import pymc3 as pm\n",
    "\n",
    "sns.set() #seaborn como default"
   ]
  },
  {
   "cell_type": "code",
   "execution_count": 2,
   "id": "d93014b5-ca3b-4c95-a30c-0600fe7c19c9",
   "metadata": {},
   "outputs": [],
   "source": [
    "fileName = 'DeltaTrazas.txt'"
   ]
  },
  {
   "cell_type": "code",
   "execution_count": 3,
   "id": "25f1eb59-e559-4911-a9b5-536c16ec0173",
   "metadata": {},
   "outputs": [],
   "source": [
    "# dataDir = '/home/fran/proyectos/TesisJavi/1capa/set2-1Capa-noNoise-1s0+0emi-3000/'\n",
    "\n",
    "# dataDir = '/home/fran/proyectos/TesisJavi/1capa/set1-1Capa-noNoise-3s0+1emi-10000/'\n",
    "\n",
    "# dataDir = '/home/fran/proyectos/TesisJavi/2capas/set1-noNoise-3s0+emi-10000/'\n",
    "\n",
    "dataDir = '/home/fran/proyectos/TesisJavi/2capas/set1-noNoise-3s0+1emi-50000-noNoise/'\n",
    "\n",
    "# dataDir = '/home/fran/proyectos/TesisJavi/1capa/set2-1Capa-noNoise-1s0+1emi-20000/'"
   ]
  },
  {
   "cell_type": "code",
   "execution_count": 4,
   "id": "de5e2e9b-8302-4bef-8755-040ec63c6246",
   "metadata": {},
   "outputs": [],
   "source": [
    "traza = np.genfromtxt(dataDir+fileName, delimiter=';')"
   ]
  },
  {
   "cell_type": "code",
   "execution_count": 5,
   "id": "6361c611-d172-4354-a372-bea1bc8b7f88",
   "metadata": {},
   "outputs": [
    {
     "data": {
      "text/plain": [
       "(5, 200000)"
      ]
     },
     "execution_count": 5,
     "metadata": {},
     "output_type": "execute_result"
    }
   ],
   "source": [
    "traza.shape"
   ]
  },
  {
   "cell_type": "code",
   "execution_count": 6,
   "id": "002837dd-f3c9-4f1c-ac58-b71fa7f2efc9",
   "metadata": {},
   "outputs": [],
   "source": [
    "plotear = np.stack((traza[0,:],traza[1,:],traza[2,:], traza[3,:], traza[4,:])).T\n",
    "dfplotear = pd.DataFrame(plotear, columns = ['ep1','ep2','d','s1','s2'])"
   ]
  },
  {
   "cell_type": "code",
   "execution_count": 7,
   "id": "1bb65d7a-ce00-467c-be13-da1f1b82a720",
   "metadata": {},
   "outputs": [
    {
     "data": {
      "text/html": [
       "<div>\n",
       "<style scoped>\n",
       "    .dataframe tbody tr th:only-of-type {\n",
       "        vertical-align: middle;\n",
       "    }\n",
       "\n",
       "    .dataframe tbody tr th {\n",
       "        vertical-align: top;\n",
       "    }\n",
       "\n",
       "    .dataframe thead th {\n",
       "        text-align: right;\n",
       "    }\n",
       "</style>\n",
       "<table border=\"1\" class=\"dataframe\">\n",
       "  <thead>\n",
       "    <tr style=\"text-align: right;\">\n",
       "      <th></th>\n",
       "      <th>ep1</th>\n",
       "      <th>ep2</th>\n",
       "      <th>d</th>\n",
       "      <th>s1</th>\n",
       "      <th>s2</th>\n",
       "    </tr>\n",
       "  </thead>\n",
       "  <tbody>\n",
       "    <tr>\n",
       "      <th>0</th>\n",
       "      <td>1.416581</td>\n",
       "      <td>7.765506</td>\n",
       "      <td>0.233990</td>\n",
       "      <td>0.000102</td>\n",
       "      <td>0.001343</td>\n",
       "    </tr>\n",
       "    <tr>\n",
       "      <th>1</th>\n",
       "      <td>1.747956</td>\n",
       "      <td>3.549441</td>\n",
       "      <td>0.142234</td>\n",
       "      <td>0.000499</td>\n",
       "      <td>0.002845</td>\n",
       "    </tr>\n",
       "    <tr>\n",
       "      <th>2</th>\n",
       "      <td>1.416581</td>\n",
       "      <td>7.765506</td>\n",
       "      <td>0.233990</td>\n",
       "      <td>0.000102</td>\n",
       "      <td>0.001343</td>\n",
       "    </tr>\n",
       "    <tr>\n",
       "      <th>3</th>\n",
       "      <td>1.747956</td>\n",
       "      <td>3.549441</td>\n",
       "      <td>0.142234</td>\n",
       "      <td>0.000499</td>\n",
       "      <td>0.002845</td>\n",
       "    </tr>\n",
       "    <tr>\n",
       "      <th>4</th>\n",
       "      <td>1.416581</td>\n",
       "      <td>7.765506</td>\n",
       "      <td>0.233990</td>\n",
       "      <td>0.000102</td>\n",
       "      <td>0.001343</td>\n",
       "    </tr>\n",
       "    <tr>\n",
       "      <th>...</th>\n",
       "      <td>...</td>\n",
       "      <td>...</td>\n",
       "      <td>...</td>\n",
       "      <td>...</td>\n",
       "      <td>...</td>\n",
       "    </tr>\n",
       "    <tr>\n",
       "      <th>199995</th>\n",
       "      <td>1.693321</td>\n",
       "      <td>3.497931</td>\n",
       "      <td>0.134765</td>\n",
       "      <td>0.000661</td>\n",
       "      <td>0.002800</td>\n",
       "    </tr>\n",
       "    <tr>\n",
       "      <th>199996</th>\n",
       "      <td>4.750116</td>\n",
       "      <td>7.754795</td>\n",
       "      <td>0.457213</td>\n",
       "      <td>0.000212</td>\n",
       "      <td>0.002987</td>\n",
       "    </tr>\n",
       "    <tr>\n",
       "      <th>199997</th>\n",
       "      <td>1.629659</td>\n",
       "      <td>4.039434</td>\n",
       "      <td>0.281565</td>\n",
       "      <td>0.000793</td>\n",
       "      <td>0.002344</td>\n",
       "    </tr>\n",
       "    <tr>\n",
       "      <th>199998</th>\n",
       "      <td>1.263272</td>\n",
       "      <td>2.780934</td>\n",
       "      <td>0.169369</td>\n",
       "      <td>0.002178</td>\n",
       "      <td>0.002912</td>\n",
       "    </tr>\n",
       "    <tr>\n",
       "      <th>199999</th>\n",
       "      <td>1.611341</td>\n",
       "      <td>3.481882</td>\n",
       "      <td>0.118132</td>\n",
       "      <td>0.001179</td>\n",
       "      <td>0.002628</td>\n",
       "    </tr>\n",
       "  </tbody>\n",
       "</table>\n",
       "<p>200000 rows × 5 columns</p>\n",
       "</div>"
      ],
      "text/plain": [
       "             ep1       ep2         d        s1        s2\n",
       "0       1.416581  7.765506  0.233990  0.000102  0.001343\n",
       "1       1.747956  3.549441  0.142234  0.000499  0.002845\n",
       "2       1.416581  7.765506  0.233990  0.000102  0.001343\n",
       "3       1.747956  3.549441  0.142234  0.000499  0.002845\n",
       "4       1.416581  7.765506  0.233990  0.000102  0.001343\n",
       "...          ...       ...       ...       ...       ...\n",
       "199995  1.693321  3.497931  0.134765  0.000661  0.002800\n",
       "199996  4.750116  7.754795  0.457213  0.000212  0.002987\n",
       "199997  1.629659  4.039434  0.281565  0.000793  0.002344\n",
       "199998  1.263272  2.780934  0.169369  0.002178  0.002912\n",
       "199999  1.611341  3.481882  0.118132  0.001179  0.002628\n",
       "\n",
       "[200000 rows x 5 columns]"
      ]
     },
     "execution_count": 7,
     "metadata": {},
     "output_type": "execute_result"
    }
   ],
   "source": [
    "dfplotear"
   ]
  },
  {
   "cell_type": "code",
   "execution_count": 17,
   "id": "26b3d49d-2c07-4f64-b119-88b568c529dc",
   "metadata": {},
   "outputs": [
    {
     "ename": "ValueError",
     "evalue": "Some errors were detected !\n    Line #2 (got 5 columns instead of 3)",
     "output_type": "error",
     "traceback": [
      "\u001b[0;31m---------------------------------------------------------------------------\u001b[0m",
      "\u001b[0;31mValueError\u001b[0m                                Traceback (most recent call last)",
      "\u001b[0;32m/tmp/ipykernel_8812/3020043271.py\u001b[0m in \u001b[0;36m<module>\u001b[0;34m\u001b[0m\n\u001b[0;32m----> 1\u001b[0;31m \u001b[0mmodelIn\u001b[0m \u001b[0;34m=\u001b[0m \u001b[0mnp\u001b[0m\u001b[0;34m.\u001b[0m\u001b[0mgenfromtxt\u001b[0m\u001b[0;34m(\u001b[0m\u001b[0mdataDir\u001b[0m\u001b[0;34m+\u001b[0m\u001b[0;34m'DeltaTrazas-input.txt'\u001b[0m\u001b[0;34m,\u001b[0m \u001b[0mdelimiter\u001b[0m\u001b[0;34m=\u001b[0m\u001b[0;34m' '\u001b[0m\u001b[0;34m)\u001b[0m\u001b[0;34m\u001b[0m\u001b[0;34m\u001b[0m\u001b[0m\n\u001b[0m",
      "\u001b[0;32m~/miniconda3/envs/bayes/lib/python3.7/site-packages/numpy/lib/npyio.py\u001b[0m in \u001b[0;36mgenfromtxt\u001b[0;34m(fname, dtype, comments, delimiter, skip_header, skip_footer, converters, missing_values, filling_values, usecols, names, excludelist, deletechars, replace_space, autostrip, case_sensitive, defaultfmt, unpack, usemask, loose, invalid_raise, max_rows, encoding, like)\u001b[0m\n\u001b[1;32m   2120\u001b[0m             \u001b[0;31m# Raise an exception ?\u001b[0m\u001b[0;34m\u001b[0m\u001b[0;34m\u001b[0m\u001b[0;34m\u001b[0m\u001b[0m\n\u001b[1;32m   2121\u001b[0m             \u001b[0;32mif\u001b[0m \u001b[0minvalid_raise\u001b[0m\u001b[0;34m:\u001b[0m\u001b[0;34m\u001b[0m\u001b[0;34m\u001b[0m\u001b[0m\n\u001b[0;32m-> 2122\u001b[0;31m                 \u001b[0;32mraise\u001b[0m \u001b[0mValueError\u001b[0m\u001b[0;34m(\u001b[0m\u001b[0merrmsg\u001b[0m\u001b[0;34m)\u001b[0m\u001b[0;34m\u001b[0m\u001b[0;34m\u001b[0m\u001b[0m\n\u001b[0m\u001b[1;32m   2123\u001b[0m             \u001b[0;31m# Issue a warning ?\u001b[0m\u001b[0;34m\u001b[0m\u001b[0;34m\u001b[0m\u001b[0;34m\u001b[0m\u001b[0m\n\u001b[1;32m   2124\u001b[0m             \u001b[0;32melse\u001b[0m\u001b[0;34m:\u001b[0m\u001b[0;34m\u001b[0m\u001b[0;34m\u001b[0m\u001b[0m\n",
      "\u001b[0;31mValueError\u001b[0m: Some errors were detected !\n    Line #2 (got 5 columns instead of 3)"
     ]
    }
   ],
   "source": [
    "modelIn = np.genfromtxt(dataDir+'DeltaTrazas-input.txt', delimiter=' ')"
   ]
  },
  {
   "cell_type": "code",
   "execution_count": 16,
   "id": "7cffb8d4-4f28-4733-b26f-6de7540c14eb",
   "metadata": {},
   "outputs": [
    {
     "data": {
      "text/plain": [
       "array([nan, nan])"
      ]
     },
     "execution_count": 16,
     "metadata": {},
     "output_type": "execute_result"
    }
   ],
   "source": [
    "modelIn"
   ]
  },
  {
   "cell_type": "code",
   "execution_count": 8,
   "id": "58a8271f-d83a-4afb-b1d0-fdfc38175126",
   "metadata": {},
   "outputs": [],
   "source": [
    "# 1.93e+00 5.00e+00 3.00e-01 1.00e-03 2.00e-03\n",
    "\n",
    "ep1_ = 1.93\n",
    "ep2_ = 5.0\n",
    "d_ = 0.3\n",
    "s1_ = 0.001\n",
    "s2_ = 0.002\n",
    " \n",
    "\n",
    "\n",
    "# ep_ = 4\n",
    "# s_ = 0.001\n",
    "# l_ = 0.01 #set2\n",
    "\n"
   ]
  },
  {
   "cell_type": "code",
   "execution_count": 9,
   "id": "16a94a27-4ba3-4fab-ab5e-db3f55aa1859",
   "metadata": {},
   "outputs": [],
   "source": [
    "modelInReduced = [ep1_, ep2_, d_, s1_, s2_]"
   ]
  },
  {
   "cell_type": "code",
   "execution_count": 10,
   "id": "6210fed6-544f-4acf-8d82-19e96c150400",
   "metadata": {},
   "outputs": [
    {
     "data": {
      "image/png": "[encoded data removed]",
      "text/plain": [
       "<Figure size 900x900 with 30 Axes>"
      ]
     },
     "metadata": {},
     "output_type": "display_data"
    }
   ],
   "source": [
    "f = sns.PairGrid(dfplotear)\n",
    "# f.fig.suptitle(Nombre, y=1.01, fontsize = 'large')\n",
    "f.map_upper(sns.histplot)\n",
    "\n",
    "f.map_lower(sns.kdeplot, fill=True)\n",
    "f.map_diag(sns.histplot, kde=True, color='.5')\n",
    "\n",
    "for i in range(5):\n",
    "    for j in range(5):\n",
    "        if i == j:\n",
    "            #ploteo el valor verdadero en las marginales\n",
    "            f.axes[j,i].axvline(modelInReduced[i], color='r', linestyle='dashed', linewidth=1)\n",
    "        else:\n",
    "            f.axes[j,i].scatter(modelInReduced[i], modelInReduced[j], marker=\"+\", c='r', s=200) #color='k', linestyle='dashed', linewidth=1)\n",
    "   "
   ]
  },
  {
   "cell_type": "code",
   "execution_count": 11,
   "id": "16b89cf8-cdaa-48f0-b45f-5621a4865406",
   "metadata": {},
   "outputs": [
    {
     "name": "stderr",
     "output_type": "stream",
     "text": [
      "/home/fran/miniconda3/envs/bayes/lib/python3.7/site-packages/seaborn/_decorators.py:43: FutureWarning: Pass the following variable as a keyword arg: y. From version 0.12, the only valid positional argument will be `data`, and passing other arguments without an explicit keyword will result in an error or misinterpretation.\n",
      "  FutureWarning\n"
     ]
    },
    {
     "data": {
      "image/png": "[encoded data removed]",
      "text/plain": [
       "<Figure size 1080x540 with 1 Axes>"
      ]
     },
     "metadata": {},
     "output_type": "display_data"
    }
   ],
   "source": [
    "fig_ = plt.figure(figsize=(15, 7.5))\n",
    "qq_ = sns.kdeplot(dfplotear.ep1, dfplotear.ep2)"
   ]
  },
  {
   "cell_type": "code",
   "execution_count": 13,
   "id": "bb94905c-937c-4613-a6f1-b920f470fe03",
   "metadata": {},
   "outputs": [
    {
     "data": {
      "text/plain": [
       "<matplotlib.collections.PathCollection at 0x7fb14fe43a10>"
      ]
     },
     "execution_count": 13,
     "metadata": {},
     "output_type": "execute_result"
    },
    {
     "data": {
      "image/png": "[encoded data removed]",
      "text/plain": [
       "<Figure size 1080x540 with 1 Axes>"
      ]
     },
     "metadata": {},
     "output_type": "display_data"
    }
   ],
   "source": [
    "fig_ = plt.figure(figsize=(15, 7.5))\n",
    "plt.scatter(dfplotear.ep1, dfplotear.ep2, marker=\"+\", c='b', s=1)\n",
    "plt.scatter(modelInReduced[0], modelInReduced[1], marker=\"+\", c='r', s=200) "
   ]
  },
  {
   "cell_type": "code",
   "execution_count": null,
   "id": "037b99dd-dc80-49b6-858b-c3d7d9852bc3",
   "metadata": {},
   "outputs": [],
   "source": []
  },
  {
   "cell_type": "code",
   "execution_count": null,
   "id": "0f899482-9503-4552-98a5-1cf2327f2a60",
   "metadata": {},
   "outputs": [],
   "source": []
  },
  {
   "cell_type": "code",
   "execution_count": null,
   "id": "1d60a80d-a9a6-467c-9378-775ba97a35af",
   "metadata": {},
   "outputs": [],
   "source": [
    "# help(density.get_xaxis())"
   ]
  },
  {
   "cell_type": "code",
   "execution_count": null,
   "id": "addec7b9-46fe-4333-866e-94776623455e",
   "metadata": {},
   "outputs": [],
   "source": [
    "# from sklearn.neighbors import KernelDensity"
   ]
  },
  {
   "cell_type": "code",
   "execution_count": null,
   "id": "27607e11-2c2d-4751-82f1-58425fcc206e",
   "metadata": {},
   "outputs": [],
   "source": [
    "# from scipy import stats"
   ]
  },
  {
   "cell_type": "code",
   "execution_count": null,
   "id": "ec4d9505-4949-43f0-9eb9-5212110b7597",
   "metadata": {},
   "outputs": [],
   "source": [
    "# # instantiate and fit the KDE model\n",
    "# kde = KernelDensity(bandwidth=0.5, kernel='gaussian')\n",
    "# kde.fit(X)\n",
    "\n",
    "# # score_samples returns the log of the probability density\n",
    "# logprob = kde.score_samples(X_resampled)\n",
    "\n",
    "# plt.fill_between(X_resampled.flatten(), np.exp(logprob), alpha=0.8)\n",
    "# # plt.plot(X, np.full_like(X, -0.01), '|k', markeredgewidth=1)\n",
    "# # plt.ylim(-0.02, 0.22)"
   ]
  },
  {
   "cell_type": "code",
   "execution_count": null,
   "id": "e5dcfc70-2e74-4651-a6b2-2c1d0d28dc36",
   "metadata": {},
   "outputs": [],
   "source": [
    "# X = traza[:2,:].T"
   ]
  },
  {
   "cell_type": "code",
   "execution_count": null,
   "id": "2c7512f6-e147-4e85-96ee-cf97d0587ce0",
   "metadata": {},
   "outputs": [],
   "source": [
    "# X.shape"
   ]
  },
  {
   "cell_type": "code",
   "execution_count": null,
   "id": "da2665db-1e05-4f5e-b5d0-4d530bafa3b5",
   "metadata": {},
   "outputs": [],
   "source": [
    "# data = X"
   ]
  },
  {
   "cell_type": "code",
   "execution_count": null,
   "id": "a1ad8466-c992-42f4-b8cc-2068067ed588",
   "metadata": {},
   "outputs": [],
   "source": [
    "# data.shape"
   ]
  },
  {
   "cell_type": "code",
   "execution_count": null,
   "id": "72bb5485-b793-4477-a406-4346e0b50a52",
   "metadata": {},
   "outputs": [],
   "source": [
    "# import numpy as np\n",
    "# import matplotlib.pyplot as pl\n",
    "import scipy.stats as st\n",
    "\n",
    "# data = np.random.multivariate_normal((0, 0), [[0.8, 0.05], [0.05, 0.7]], 100)\n",
    "x = dfplotear.ep1.values #data[:, 0]\n",
    "y = dfplotear.ep2.values #data[:, 1]\n",
    "xmin, xmax = 1, 8\n",
    "ymin, ymax = 1, 8\n",
    "\n",
    "# Peform the kernel density estimate\n",
    "xx, yy = np.mgrid[xmin:xmax:100j, ymin:ymax:100j]\n",
    "positions = np.vstack([xx.ravel(), yy.ravel()])\n",
    "values = np.vstack([x, y])\n",
    "\n",
    "\n",
    "kernel = st.gaussian_kde(values)\n",
    "# kernel = kde.score_samples(values)\n",
    "\n",
    "f = np.reshape(kernel(positions).T, xx.shape)\n",
    "\n",
    "fig = plt.figure()\n",
    "ax = fig.gca()\n",
    "ax.set_xlim(xmin, xmax)\n",
    "ax.set_ylim(ymin, ymax)\n",
    "# Contourf plot\n",
    "cfset = ax.contourf(xx, yy, f, cmap='Blues')\n",
    "## Or kernel density estimate plot instead of the contourf plot\n",
    "#ax.imshow(np.rot90(f), cmap='Blues', extent=[xmin, xmax, ymin, ymax])\n",
    "# Contour plot\n",
    "cset = ax.contour(xx, yy, f, colors='k')\n",
    "# Label plot\n",
    "ax.clabel(cset, inline=1, fontsize=10)\n",
    "ax.set_xlabel('Y1')\n",
    "ax.set_ylabel('Y0')\n",
    "\n",
    "plt.show()"
   ]
  },
  {
   "cell_type": "code",
   "execution_count": null,
   "id": "e300cf53-93de-4ae9-a22c-47f5113194e6",
   "metadata": {},
   "outputs": [],
   "source": [
    "plt.imshow(f.T)"
   ]
  },
  {
   "cell_type": "code",
   "execution_count": null,
   "id": "17cc92a1-568c-4085-9cfe-1c0c8e684a8d",
   "metadata": {},
   "outputs": [],
   "source": [
    "from matplotlib import cm"
   ]
  },
  {
   "cell_type": "code",
   "execution_count": null,
   "id": "44890a5c-339a-48c0-a6d5-73bf84058a38",
   "metadata": {},
   "outputs": [],
   "source": [
    "# Make data.\n",
    "# X = np.arange(-5, 5, 0.25)\n",
    "# Y = np.arange(-5, 5, 0.25)\n",
    "# X, Y = np.meshgrid(X, Y)\n",
    "# R = np.sqrt(X**2 + Y**2)\n",
    "# Z = np.sin(R)\n",
    "\n",
    "# Plot the surface.\n",
    "fig, ax = plt.subplots(subplot_kw={\"projection\": \"3d\"})\n",
    "fig.set_size_inches(18.5, 10.5, forward=True)\n",
    "surf = ax.plot_surface(xx, yy, f, cmap=cm.coolwarm,\n",
    "                       linewidth=0, antialiased=False)\n",
    "# Add a color bar which maps values to colors.\n",
    "fig.colorbar(surf, shrink=0.5, aspect=5)\n",
    "\n",
    "plt.show()"
   ]
  },
  {
   "cell_type": "code",
   "execution_count": null,
   "id": "2ed327f2-05ca-47fe-838c-d2f557f0540b",
   "metadata": {},
   "outputs": [],
   "source": [
    "import scipy.ndimage.filters as filters\n",
    "import scipy.ndimage as ndimage"
   ]
  },
  {
   "cell_type": "code",
   "execution_count": null,
   "id": "643906bb-23e9-4d60-93ee-a5e2060f556e",
   "metadata": {},
   "outputs": [],
   "source": []
  },
  {
   "cell_type": "code",
   "execution_count": null,
   "id": "953bc67d-38d6-43ce-9add-808bc433feb9",
   "metadata": {},
   "outputs": [],
   "source": [
    "data = f"
   ]
  },
  {
   "cell_type": "code",
   "execution_count": null,
   "id": "632dcdc8-657c-45f8-a57e-4f918425a052",
   "metadata": {},
   "outputs": [],
   "source": [
    "neighborhood_size = 5\n",
    "threshold = 0.05"
   ]
  },
  {
   "cell_type": "code",
   "execution_count": null,
   "id": "f3c26b11-53f3-4fa0-b4c6-e0a827d301f2",
   "metadata": {},
   "outputs": [],
   "source": [
    "data_max = filters.maximum_filter(data, neighborhood_size)\n",
    "# data_max = filters.maximum_filter(data)\n",
    "maxima = (data == data_max)\n",
    "data_min = filters.minimum_filter(data, neighborhood_size)\n",
    "diff = ((data_max - data_min) > threshold)\n",
    "maxima[diff == 0] = 0"
   ]
  },
  {
   "cell_type": "code",
   "execution_count": null,
   "id": "6ec7473d-d98d-4f76-87d8-229e1d1f1cb2",
   "metadata": {},
   "outputs": [],
   "source": [
    "labeled, num_objects = ndimage.label(maxima)\n",
    "slices = ndimage.find_objects(labeled)\n",
    "x, y = [], []\n",
    "for dy,dx in slices:\n",
    "    x_center = (dx.start + dx.stop - 1)/2\n",
    "    x.append(x_center)\n",
    "    y_center = (dy.start + dy.stop - 1)/2    \n",
    "    y.append(y_center)"
   ]
  },
  {
   "cell_type": "code",
   "execution_count": null,
   "id": "2efcda3a-e3b5-4d0e-8799-24ec143940f4",
   "metadata": {},
   "outputs": [],
   "source": [
    "plt.imshow(data)\n",
    "plt.autoscale(False)\n",
    "plt.plot(x,y, 'b+')"
   ]
  },
  {
   "cell_type": "code",
   "execution_count": null,
   "id": "8f35c8fd-b261-4912-bec4-e2719390c892",
   "metadata": {},
   "outputs": [],
   "source": [
    "xgrid = np.linspace(xmin,xmax,100)\n",
    "ygrid = np.linspace(ymin,ymax,100)"
   ]
  },
  {
   "cell_type": "code",
   "execution_count": null,
   "id": "82f3491a-b723-42ac-8c44-7d4811df5287",
   "metadata": {},
   "outputs": [],
   "source": [
    "for peak in range(len(x)):\n",
    "    x_ = int(x[peak])\n",
    "    y_ = int(y[peak])\n",
    "    print([xgrid[x_], ygrid[y_]])"
   ]
  },
  {
   "cell_type": "code",
   "execution_count": null,
   "id": "8f6e551f-3e0b-4e55-b34c-60f944789712",
   "metadata": {},
   "outputs": [],
   "source": [
    "x"
   ]
  },
  {
   "cell_type": "code",
   "execution_count": null,
   "id": "68d3f80e-dd5a-4303-8aec-6e73e0be1203",
   "metadata": {},
   "outputs": [],
   "source": [
    "y"
   ]
  },
  {
   "cell_type": "code",
   "execution_count": null,
   "id": "f5ed1a7e-fac9-49a6-9807-d7d84ee2444f",
   "metadata": {},
   "outputs": [],
   "source": []
  },
  {
   "cell_type": "code",
   "execution_count": null,
   "id": "942d89a5-1495-47b0-b9d3-4ee71df7e43c",
   "metadata": {},
   "outputs": [],
   "source": [
    "######################33"
   ]
  },
  {
   "cell_type": "code",
   "execution_count": null,
   "id": "e695a74b-2d75-44de-b3be-066b6f082874",
   "metadata": {},
   "outputs": [],
   "source": []
  },
  {
   "cell_type": "code",
   "execution_count": null,
   "id": "f201efec-1ba6-45b3-898c-ee14c3d87737",
   "metadata": {},
   "outputs": [],
   "source": []
  },
  {
   "cell_type": "code",
   "execution_count": null,
   "id": "4c704356-0c20-4a9c-8c8d-f8f0e6544385",
   "metadata": {},
   "outputs": [],
   "source": [
    "import scipy.stats as st\n",
    "\n",
    "# data = np.random.multivariate_normal((0, 0), [[0.8, 0.05], [0.05, 0.7]], 100)\n",
    "x1 = dfplotear.ep1.values #data[:, 0]\n",
    "x2 = dfplotear.ep2.values #data[:, 1]\n",
    "x3 = dfplotear.d.values #data[:, 1]\n",
    "x4 = dfplotear.s1.values #data[:, 1]\n",
    "x5 = dfplotear.s2.values #data[:, 1]\n",
    "\n",
    "'''\n",
    "ranges['ep1'] = 1.4, 8\n",
    "ranges['ep2'] = 1.4, 8\n",
    "ranges['d'] = 0.001, 0.5\n",
    "ranges['s1'] = 0.0004, 0.004\n",
    "ranges['s2'] = 0.0004, 0.004\n",
    "'''\n",
    "\n",
    "x1min, x1max = 1.4, 8\n",
    "x2min, x2max = 1.4, 8\n",
    "x3min, x3max = 0.001, 0.5\n",
    "x4min, x4max = 0.0004, 0.004\n",
    "x5min, x5max = 0.0004, 0.004\n",
    "\n",
    "# Peform the kernel density estimate\n",
    "xx1, xx2, xx3, xx4, xx5 = np.mgrid[x1min:x1max:20j, \n",
    "                                   x2min:x2max:20j, \n",
    "                                   x3min:x3max:20j, \n",
    "                                   x4min:x4max:20j, \n",
    "                                   x5min:x5max:20j]\n",
    "\n",
    "positions = np.vstack([xx1.ravel(), xx2.ravel(), xx3.ravel(), xx4.ravel(), xx5.ravel()])\n",
    "values = np.vstack([x1, x2, x3, x4, x5])\n",
    "\n",
    "\n",
    "kernel = st.gaussian_kde(values)\n",
    "# kernel = kde.score_samples(values)\n",
    "\n",
    "f = np.reshape(kernel(positions).T, xx1.shape)\n",
    "\n"
   ]
  },
  {
   "cell_type": "code",
   "execution_count": null,
   "id": "f607bbf7-1cfd-4674-8475-50936198e15d",
   "metadata": {},
   "outputs": [],
   "source": [
    "# fig = plt.figure()\n",
    "# ax = fig.gca()\n",
    "# ax.set_xlim(xmin, xmax)\n",
    "# ax.set_ylim(ymin, ymax)\n",
    "# # Contourf plot\n",
    "# cfset = ax.contourf(xx, yy, f, cmap='Blues')\n",
    "# ## Or kernel density estimate plot instead of the contourf plot\n",
    "# #ax.imshow(np.rot90(f), cmap='Blues', extent=[xmin, xmax, ymin, ymax])\n",
    "# # Contour plot\n",
    "# cset = ax.contour(xx, yy, f, colors='k')\n",
    "# # Label plot\n",
    "# ax.clabel(cset, inline=1, fontsize=10)\n",
    "# ax.set_xlabel('Y1')\n",
    "# ax.set_ylabel('Y0')\n",
    "\n",
    "# plt.show()"
   ]
  },
  {
   "cell_type": "code",
   "execution_count": null,
   "id": "d89566ed-6922-48ac-9d91-104f97517b7e",
   "metadata": {},
   "outputs": [],
   "source": [
    "f.shape"
   ]
  },
  {
   "cell_type": "code",
   "execution_count": null,
   "id": "94802766-a5b6-48ee-923c-0e5bedb56f67",
   "metadata": {},
   "outputs": [],
   "source": [
    "data = f"
   ]
  },
  {
   "cell_type": "code",
   "execution_count": null,
   "id": "ac2b08cc-b69f-424c-b658-e58d9bce1cde",
   "metadata": {},
   "outputs": [],
   "source": [
    "import scipy.ndimage.filters as filters\n",
    "import scipy.ndimage as ndimage"
   ]
  },
  {
   "cell_type": "code",
   "execution_count": null,
   "id": "56861acb-1a3e-47c4-aae3-06e47c5d67ba",
   "metadata": {},
   "outputs": [],
   "source": [
    "neighborhood_size = 5\n",
    "threshold = 0.05"
   ]
  },
  {
   "cell_type": "code",
   "execution_count": null,
   "id": "d507ed98-511e-4a58-a176-0069729a4a8e",
   "metadata": {},
   "outputs": [],
   "source": [
    "data_max = filters.maximum_filter(data, neighborhood_size)\n",
    "# data_max = filters.maximum_filter(data)\n",
    "maxima = (data == data_max)\n",
    "data_min = filters.minimum_filter(data, neighborhood_size)\n",
    "diff = ((data_max - data_min) > threshold)\n",
    "maxima[diff == 0] = 0"
   ]
  },
  {
   "cell_type": "code",
   "execution_count": null,
   "id": "d420f021-1873-478e-aaf0-2c221673d8ec",
   "metadata": {},
   "outputs": [],
   "source": [
    "labeled, num_objects = ndimage.label(maxima)\n",
    "slices = ndimage.find_objects(labeled)\n",
    "x, y = [], []\n",
    "for x1_,x2_,x3_,x4_,x5_ in slices:\n",
    "    x1_center = (dx.start + dx.stop - 1)/2\n",
    "    x.append(x_center)\n",
    "    y_center = (dy.start + dy.stop - 1)/2    \n",
    "    y.append(y_center)"
   ]
  },
  {
   "cell_type": "code",
   "execution_count": null,
   "id": "1e51ae97-887b-4e4b-884d-bada16e46d9a",
   "metadata": {},
   "outputs": [],
   "source": [
    "maxima.shape"
   ]
  },
  {
   "cell_type": "code",
   "execution_count": null,
   "id": "61b19d20-a6f4-4ec0-8c80-8749c0932cb6",
   "metadata": {},
   "outputs": [],
   "source": []
  },
  {
   "cell_type": "code",
   "execution_count": null,
   "id": "ec7cd4e6-59e2-4fa7-8c53-4b7f29bb9a0a",
   "metadata": {},
   "outputs": [],
   "source": []
  },
  {
   "cell_type": "code",
   "execution_count": null,
   "id": "05999616-ad3e-40ad-a39e-211d9b52f9f5",
   "metadata": {},
   "outputs": [],
   "source": []
  },
  {
   "cell_type": "code",
   "execution_count": null,
   "id": "b531a5b4-9add-4de7-85f6-21197e9fd38d",
   "metadata": {},
   "outputs": [],
   "source": [
    "#dbscan"
   ]
  },
  {
   "cell_type": "code",
   "execution_count": null,
   "id": "7add7686-cfc0-4bb8-a649-47830ff09842",
   "metadata": {},
   "outputs": [],
   "source": [
    "from sklearn.cluster import DBSCAN\n",
    "from sklearn.mixture import GaussianMixture"
   ]
  },
  {
   "cell_type": "code",
   "execution_count": null,
   "id": "8d00b96e-5cd0-4d22-8607-1223e18e8551",
   "metadata": {},
   "outputs": [],
   "source": [
    "# X = np.array([[1, 2], [2, 2], [2, 3],[8, 7], [8, 8], [25, 80]])\n",
    "X = values.T"
   ]
  },
  {
   "cell_type": "code",
   "execution_count": null,
   "id": "70d2bd2d-02e7-4d7b-b75a-b189fa2b08c2",
   "metadata": {},
   "outputs": [],
   "source": [
    "X.shape"
   ]
  },
  {
   "cell_type": "code",
   "execution_count": null,
   "id": "7d7cf0cf-21c8-4a97-8479-311522184c5b",
   "metadata": {},
   "outputs": [],
   "source": [
    "# clustering = DBSCAN(eps=1, min_samples=4000).fit(X)\n",
    "gm = GaussianMixture(n_components=4, random_state=0).fit(X)"
   ]
  },
  {
   "cell_type": "code",
   "execution_count": null,
   "id": "92d21fed-ac28-4a23-a225-32d7aa53f4c5",
   "metadata": {},
   "outputs": [],
   "source": [
    "gm.means_"
   ]
  },
  {
   "cell_type": "code",
   "execution_count": null,
   "id": "195839bd-e09b-497e-9618-95d3e3a91d2f",
   "metadata": {},
   "outputs": [],
   "source": [
    "# np.unique(clustering.labels_)"
   ]
  },
  {
   "cell_type": "code",
   "execution_count": null,
   "id": "dff121fc-ce1d-4fec-b97a-f1c03dc4a355",
   "metadata": {},
   "outputs": [],
   "source": [
    "# plt.scatter(X[:,0], X[:,1], c=np.asarray(clustering.labels_)+1)"
   ]
  },
  {
   "cell_type": "code",
   "execution_count": null,
   "id": "d274ea4c-6e80-4e2b-a777-d65b0371f5d7",
   "metadata": {},
   "outputs": [],
   "source": [
    "gm.predict([[0, 0], [12, 3]])\n",
    "plt.scatter(X[:,0], X[:,1], c=gm.predict(X))"
   ]
  },
  {
   "cell_type": "code",
   "execution_count": null,
   "id": "89bc1daa-8d03-41e3-b4a8-2c5a66dc4b54",
   "metadata": {},
   "outputs": [],
   "source": []
  },
  {
   "cell_type": "code",
   "execution_count": null,
   "id": "96b6cef4-6ac1-4c16-b5e1-367504ea6baa",
   "metadata": {},
   "outputs": [],
   "source": [
    "#correlaciones"
   ]
  },
  {
   "cell_type": "code",
   "execution_count": null,
   "id": "d2c33a2d-9143-4dae-83d2-641ca553a12e",
   "metadata": {},
   "outputs": [],
   "source": [
    "x = dfplotear.ep1.values #data[:, 0]\n",
    "y = dfplotear.ep2.values #data[:, 1]\n",
    "z = dfplotear.s1.values #data[:, 1]"
   ]
  },
  {
   "cell_type": "code",
   "execution_count": null,
   "id": "4fa5553b-4d45-46a5-9189-d7a43779aa92",
   "metadata": {},
   "outputs": [],
   "source": [
    "xmin, xmax = 1, 8\n",
    "ymin, ymax = 1, 8\n",
    "zmin, zmax = 0.001, 0.004"
   ]
  },
  {
   "cell_type": "code",
   "execution_count": null,
   "id": "19fe28d1-4844-410a-9c14-78785b2b77a6",
   "metadata": {},
   "outputs": [],
   "source": [
    "xx, yy, zz = np.mgrid[xmin:xmax:50j, ymin:ymax:50j, zmin:zmax:50j]"
   ]
  },
  {
   "cell_type": "code",
   "execution_count": null,
   "id": "e4e2d77c-320e-4fb0-ac3c-dadce22ebd51",
   "metadata": {},
   "outputs": [],
   "source": [
    "positions = np.vstack([xx.ravel(), yy.ravel(), zz.ravel()])"
   ]
  },
  {
   "cell_type": "code",
   "execution_count": null,
   "id": "7497c208-2b70-4963-bfcb-532010fea60a",
   "metadata": {},
   "outputs": [],
   "source": [
    "values = np.vstack([x, y, z])"
   ]
  },
  {
   "cell_type": "code",
   "execution_count": null,
   "id": "cce11c7e-32be-444a-97e5-5a2450c84f45",
   "metadata": {},
   "outputs": [],
   "source": [
    "kernel = st.gaussian_kde(values)"
   ]
  },
  {
   "cell_type": "code",
   "execution_count": null,
   "id": "a68b6d1d-f0c7-4ce8-b6f2-33267a6f6d12",
   "metadata": {},
   "outputs": [],
   "source": [
    "f = np.reshape(kernel(positions).T, xx.shape)"
   ]
  },
  {
   "cell_type": "code",
   "execution_count": null,
   "id": "5f007c56-24d7-4cc8-8924-9d6771f48de9",
   "metadata": {},
   "outputs": [],
   "source": [
    "f.shape"
   ]
  },
  {
   "cell_type": "code",
   "execution_count": null,
   "id": "93c9c013-d74d-40d4-a202-43e936c41966",
   "metadata": {},
   "outputs": [],
   "source": [
    "f = f/f.sum()"
   ]
  },
  {
   "cell_type": "code",
   "execution_count": null,
   "id": "aea67574-1e59-4e16-8ba4-7126aedcd025",
   "metadata": {},
   "outputs": [],
   "source": [
    "f.sum()"
   ]
  },
  {
   "cell_type": "code",
   "execution_count": null,
   "id": "9db0e525-ef50-4fe0-926d-3e4e52da2003",
   "metadata": {},
   "outputs": [],
   "source": [
    "plt.hist(f.flatten())"
   ]
  },
  {
   "cell_type": "code",
   "execution_count": null,
   "id": "92283689-5d53-4ace-81f8-a2c8c763ee3f",
   "metadata": {},
   "outputs": [],
   "source": [
    "xx[f>0.0001].shape"
   ]
  },
  {
   "cell_type": "code",
   "execution_count": null,
   "id": "7ccf9e9f-56c6-4d6a-8b0e-9751f14e836a",
   "metadata": {},
   "outputs": [],
   "source": [
    "# x = dfplotear.ep1.values #data[:, 0]\n",
    "# y = dfplotear.ep2.values #data[:, 1]\n",
    "# z = dfplotear.s1.values #data[:, 1]\n",
    "# # xmin, xmax = 1, 8\n",
    "# # ymin, ymax = 1, 8\n",
    "\n",
    "# # Peform the kernel density estimate\n",
    "# xx, yy = np.mgrid[xmin:xmax:100j, ymin:ymax:100j]\n",
    "# positions = np.vstack([xx.ravel(), yy.ravel()])\n",
    "# values = np.vstack([x, y])\n",
    "\n",
    "\n",
    "# kernel = st.gaussian_kde(values)\n",
    "# kernel = kde.score_samples(values)\n",
    "\n",
    "# f = np.reshape(kernel(positions).T, xx.shape)\n",
    "\n",
    "fig = plt.figure()\n",
    "ax = fig.gca()\n",
    "ax.set_xlim(xmin, xmax)\n",
    "ax.set_ylim(ymin, ymax)\n",
    "# Contourf plot\n",
    "cfset = ax.contourf(xx, yy, f, cmap='Blues')\n",
    "## Or kernel density estimate plot instead of the contourf plot\n",
    "#ax.imshow(np.rot90(f), cmap='Blues', extent=[xmin, xmax, ymin, ymax])\n",
    "# Contour plot\n",
    "cset = ax.contour(xx, yy, f, colors='k')\n",
    "# Label plot\n",
    "ax.clabel(cset, inline=1, fontsize=10)\n",
    "ax.set_xlabel('Y1')\n",
    "ax.set_ylabel('Y0')\n",
    "\n",
    "plt.show()"
   ]
  },
  {
   "cell_type": "code",
   "execution_count": null,
   "id": "76a3b266-923c-4013-bca5-961fb67ab7aa",
   "metadata": {},
   "outputs": [],
   "source": []
  },
  {
   "cell_type": "code",
   "execution_count": null,
   "id": "a0a65f97-a09b-4f76-b7e6-6d97f141336f",
   "metadata": {},
   "outputs": [],
   "source": []
  },
  {
   "cell_type": "code",
   "execution_count": null,
   "id": "243572ea-7a61-4414-a32e-2b443b3c62f7",
   "metadata": {},
   "outputs": [],
   "source": [
    "X = traza[:2,:1000].T"
   ]
  },
  {
   "cell_type": "code",
   "execution_count": null,
   "id": "594880c9-728e-4759-9897-9e3787c86cad",
   "metadata": {},
   "outputs": [],
   "source": [
    "X.shape"
   ]
  },
  {
   "cell_type": "code",
   "execution_count": null,
   "id": "0d4768a2-35b8-47c4-bb16-c41e040e479c",
   "metadata": {},
   "outputs": [],
   "source": [
    "X_resampled_1 = np.linspace(1, 8, 1000)\n",
    "X_resampled_2 = np.linspace(0, 0.04, 1000)"
   ]
  },
  {
   "cell_type": "code",
   "execution_count": null,
   "id": "fe2fe61f-71b0-4b43-83f0-a93858b6a698",
   "metadata": {},
   "outputs": [],
   "source": [
    "X_resampled = np.vstack((X_resampled_1, X_resampled_2)).T"
   ]
  },
  {
   "cell_type": "code",
   "execution_count": null,
   "id": "97a46239-e48c-4a49-9ec3-447a5b2f9e28",
   "metadata": {},
   "outputs": [],
   "source": [
    "X_resampled.shape"
   ]
  },
  {
   "cell_type": "code",
   "execution_count": null,
   "id": "2d54a3d3-7783-441c-933c-363c1af8a742",
   "metadata": {},
   "outputs": [],
   "source": [
    "# instantiate and fit the KDE model\n",
    "kde = KernelDensity(bandwidth=0.5, kernel='gaussian')\n",
    "kde.fit(X)"
   ]
  },
  {
   "cell_type": "code",
   "execution_count": null,
   "id": "95f01aa3-5d17-4488-8ee9-6bbb8fefe515",
   "metadata": {},
   "outputs": [],
   "source": [
    "logprob = kde.score_samples(X_resampled)"
   ]
  },
  {
   "cell_type": "code",
   "execution_count": null,
   "id": "b340529c-dc51-4d70-8138-48f5e767e0eb",
   "metadata": {},
   "outputs": [],
   "source": [
    "X_resampled.shape"
   ]
  },
  {
   "cell_type": "code",
   "execution_count": null,
   "id": "8aa7a5bd-1b48-4020-a33f-9c287da06153",
   "metadata": {},
   "outputs": [],
   "source": [
    "\n",
    "\n",
    "# score_samples returns the log of the probability density\n",
    "# logprob = kde.score_samples(X_resampled)\n",
    "\n",
    "plt.fill_between(X_resampled, np.exp(logprob), alpha=0.8)"
   ]
  },
  {
   "cell_type": "code",
   "execution_count": null,
   "id": "85f48c74-d0a3-4204-89bf-99961910db10",
   "metadata": {},
   "outputs": [],
   "source": []
  },
  {
   "cell_type": "code",
   "execution_count": null,
   "id": "5a6bb5c3-65f1-43b9-abd9-042b859d0184",
   "metadata": {},
   "outputs": [],
   "source": [
    "# line = density.lines[0]\n",
    "# x, y = line.get_data()\n",
    "\n",
    "# fig, ax = plt.subplots()\n",
    "# ax.plot(x[x>0], y[x>0])\n",
    "\n",
    "# X = traza[:\n",
    "X = traza[:2,:].T\n",
    "kde = KernelDensity(kernel='gaussian', bandwidth=0.2).fit(X)"
   ]
  },
  {
   "cell_type": "code",
   "execution_count": null,
   "id": "3ca95923-2ae2-4fb1-8168-ff4a9b11486c",
   "metadata": {},
   "outputs": [],
   "source": [
    "X.shape"
   ]
  },
  {
   "cell_type": "code",
   "execution_count": null,
   "id": "c47d4228-e3a6-45e7-93bc-bca5dad115cf",
   "metadata": {},
   "outputs": [],
   "source": [
    "x_d = np.linspace(1, 8, 100)"
   ]
  },
  {
   "cell_type": "code",
   "execution_count": null,
   "id": "27702ddb-0d02-4996-889b-91c939bc2b38",
   "metadata": {},
   "outputs": [],
   "source": [
    "Xq,Yq = np.mgrid[1:9:0.01, 0:0.004:0.0001]"
   ]
  },
  {
   "cell_type": "code",
   "execution_count": null,
   "id": "b4854a49-4296-40f2-8a31-4e3533d8c684",
   "metadata": {},
   "outputs": [],
   "source": [
    "Xq"
   ]
  },
  {
   "cell_type": "code",
   "execution_count": null,
   "id": "dec28d14-b79a-4701-8d05-a952263a0497",
   "metadata": {},
   "outputs": [],
   "source": [
    "kde.score_samples(Xq)"
   ]
  },
  {
   "cell_type": "code",
   "execution_count": null,
   "id": "91578ad8-6f9c-409f-9738-e81ef8f74868",
   "metadata": {},
   "outputs": [],
   "source": [
    "kde."
   ]
  },
  {
   "cell_type": "code",
   "execution_count": null,
   "id": "c608a895-59a7-4de2-a505-1caba1d2ef25",
   "metadata": {},
   "outputs": [],
   "source": [
    "est_ = kde.sample(1000)\n",
    "plt.scatter(est_[:,0], est_[:,1])"
   ]
  },
  {
   "cell_type": "code",
   "execution_count": null,
   "id": "c0fa596e-f21e-4051-993b-2a18f2d4981b",
   "metadata": {},
   "outputs": [],
   "source": [
    "est_[:,0]"
   ]
  },
  {
   "cell_type": "code",
   "execution_count": null,
   "id": "9535e2e4-14dc-42fa-85b1-51dfba5cad21",
   "metadata": {},
   "outputs": [],
   "source": [
    "X = np.array([[-1, -1], [-2, -1], [-3, -2], [1, 1], [2, 1], [3, 2]])"
   ]
  },
  {
   "cell_type": "code",
   "execution_count": null,
   "id": "8350088d-8b99-48d7-817c-f8b74ff9f00a",
   "metadata": {},
   "outputs": [],
   "source": [
    "X.shape"
   ]
  },
  {
   "cell_type": "code",
   "execution_count": null,
   "id": "20f9ace0-9a48-44b4-826a-fb0c5fe5dfa3",
   "metadata": {},
   "outputs": [],
   "source": [
    "traza[:2,:].shape"
   ]
  },
  {
   "cell_type": "code",
   "execution_count": null,
   "id": "7c8b23aa-7d7c-4097-bd41-2f731f0b7705",
   "metadata": {},
   "outputs": [],
   "source": []
  },
  {
   "cell_type": "code",
   "execution_count": null,
   "id": "62950fee-eebf-4a30-a469-fd18951f58b2",
   "metadata": {},
   "outputs": [],
   "source": []
  },
  {
   "cell_type": "code",
   "execution_count": null,
   "id": "e910ea8b-786d-4731-ba7d-ecebb4080c3d",
   "metadata": {},
   "outputs": [],
   "source": [
    "\n",
    "\n",
    "def make_data(N, f=0.3, rseed=1):\n",
    "    rand = np.random.RandomState(rseed)\n",
    "    x = rand.randn(N)\n",
    "    x[int(f * N):] += 5\n",
    "    return x\n",
    "\n",
    "x = make_data(1000)\n",
    "\n"
   ]
  },
  {
   "cell_type": "code",
   "execution_count": null,
   "id": "0688e79e-d513-4571-84ff-ada541c70cb7",
   "metadata": {},
   "outputs": [],
   "source": [
    "x.shape"
   ]
  },
  {
   "cell_type": "code",
   "execution_count": null,
   "id": "f511f84c-2c69-4bdb-aed9-424448d52fe9",
   "metadata": {},
   "outputs": [],
   "source": [
    "\n",
    "\n",
    "hist = plt.hist(x, bins=30, density=True)\n",
    "\n"
   ]
  },
  {
   "cell_type": "code",
   "execution_count": null,
   "id": "96acefc7-8802-4019-8ef8-17c8e09bb2de",
   "metadata": {},
   "outputs": [],
   "source": [
    "\n",
    "\n",
    "x = make_data(20)\n",
    "bins = np.linspace(-5, 10, 10)\n",
    "\n"
   ]
  },
  {
   "cell_type": "code",
   "execution_count": null,
   "id": "9d3220c5-c289-4d6e-bfdb-136151560a5a",
   "metadata": {},
   "outputs": [],
   "source": [
    "\n",
    "\n",
    "fig, ax = plt.subplots(1, 2, figsize=(12, 4),\n",
    "                       sharex=True, sharey=True,\n",
    "                       subplot_kw={'xlim':(-4, 9),\n",
    "                                   'ylim':(-0.02, 0.3)})\n",
    "fig.subplots_adjust(wspace=0.05)\n",
    "for i, offset in enumerate([0.0, 0.6]):\n",
    "    ax[i].hist(x, bins=bins + offset, density=True)\n",
    "    ax[i].plot(x, np.full_like(x, -0.01), '|k',\n",
    "               markeredgewidth=1)\n",
    "\n"
   ]
  },
  {
   "cell_type": "code",
   "execution_count": null,
   "id": "d08fd618-14ae-4db2-9b29-361e45f8c3e5",
   "metadata": {},
   "outputs": [],
   "source": []
  },
  {
   "cell_type": "code",
   "execution_count": null,
   "id": "aec72c8a-bed0-4a50-b3cc-7152dd4457a9",
   "metadata": {},
   "outputs": [],
   "source": [
    "# from scipy.stats import norm\n",
    "# x_d = np.linspace(-4, 8, 1000)\n",
    "# density = sum(norm(xi).pdf(x_d) for xi in x)\n",
    "\n",
    "# plt.fill_between(x_d, density, alpha=0.5)\n",
    "# plt.plot(x, np.full_like(x, -0.1), '|k', markeredgewidth=1)\n",
    "\n",
    "# plt.axis([-4, 8, -0.2, 5]);"
   ]
  },
  {
   "cell_type": "code",
   "execution_count": null,
   "id": "dbb516e2-b511-4ba9-8212-632ee21e6314",
   "metadata": {},
   "outputs": [],
   "source": [
    "x.shape"
   ]
  },
  {
   "cell_type": "code",
   "execution_count": null,
   "id": "c651e0b8-740d-444a-9c99-b7865c4c8629",
   "metadata": {},
   "outputs": [],
   "source": [
    "# instantiate and fit the KDE model\n",
    "kde = KernelDensity(bandwidth=1.0, kernel='gaussian')\n",
    "kde.fit(x[:, None])\n",
    "\n",
    "# score_samples returns the log of the probability density\n",
    "logprob = kde.score_samples(x_d[:, None])\n",
    "\n",
    "plt.fill_between(x_d, np.exp(logprob), alpha=0.5)\n",
    "plt.plot(x, np.full_like(x, -0.01), '|k', markeredgewidth=1)\n",
    "plt.ylim(-0.02, 0.22)"
   ]
  },
  {
   "cell_type": "code",
   "execution_count": null,
   "id": "0c6f6710-eeb4-44c8-8231-3686cffedefe",
   "metadata": {},
   "outputs": [],
   "source": [
    "logprob"
   ]
  },
  {
   "cell_type": "code",
   "execution_count": null,
   "id": "f3287854-0a8b-4318-8e3d-64a4758d0c50",
   "metadata": {},
   "outputs": [],
   "source": []
  }
 ],
 "metadata": {
  "kernelspec": {
   "display_name": "Python 3 (ipykernel)",
   "language": "python",
   "name": "python3"
  },
  "language_info": {
   "codemirror_mode": {
    "name": "ipython",
    "version": 3
   },
   "file_extension": ".py",
   "mimetype": "text/x-python",
   "name": "python",
   "nbconvert_exporter": "python",
   "pygments_lexer": "ipython3",
   "version": "3.7.11"
  }
 },
 "nbformat": 4,
 "nbformat_minor": 5
}
